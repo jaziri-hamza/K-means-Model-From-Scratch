{
 "cells": [
  {
   "cell_type": "markdown",
   "metadata": {},
   "source": [
    "##### Simple example of K-means model"
   ]
  },
  {
   "cell_type": "markdown",
   "metadata": {},
   "source": [
    "Import libs"
   ]
  },
  {
   "cell_type": "code",
   "execution_count": 19,
   "metadata": {},
   "outputs": [],
   "source": [
    "from sys import path\n",
    "import matplotlib.pyplot as plt\n",
    "\n",
    "path.append('..')\n",
    "from KMeans import KMeans"
   ]
  },
  {
   "cell_type": "markdown",
   "metadata": {},
   "source": [
    "generate fake data \n",
    "+ 2 cluster"
   ]
  },
  {
   "cell_type": "code",
   "execution_count": 20,
   "metadata": {},
   "outputs": [],
   "source": [
    "from sklearn.datasets import make_blobs\n",
    "X, Y = make_blobs(n_samples=100, centers=2, n_features=2, random_state=0)"
   ]
  },
  {
   "cell_type": "markdown",
   "metadata": {},
   "source": [
    "plot the data"
   ]
  },
  {
   "cell_type": "code",
   "execution_count": 21,
   "metadata": {},
   "outputs": [
    {
     "data": {
      "image/png": "[encoded data removed]",
      "text/plain": [
       "<Figure size 432x288 with 1 Axes>"
      ]
     },
     "metadata": {
      "needs_background": "light"
     },
     "output_type": "display_data"
    }
   ],
   "source": [
    "subplot1 = plt.subplot()\n",
    "for i in range(Y.shape[0]):\n",
    "    if(Y[i] == 0):\n",
    "        subplot1.scatter(X[i,0], X[i,1], c='g', marker='.')\n",
    "    else:\n",
    "        subplot1.scatter(X[i,0], X[i,1], c='b', marker='.')\n",
    "plt.show()"
   ]
  },
  {
   "cell_type": "markdown",
   "metadata": {},
   "source": [
    "init the model, and fit the data"
   ]
  },
  {
   "cell_type": "code",
   "execution_count": 24,
   "metadata": {},
   "outputs": [],
   "source": [
    "kmeans = KMeans(X, 2)\n",
    "kmeans.fit(200)"
   ]
  },
  {
   "cell_type": "markdown",
   "metadata": {},
   "source": [
    "plot data and the point of each cluster"
   ]
  },
  {
   "cell_type": "code",
   "execution_count": 25,
   "metadata": {},
   "outputs": [
    {
     "data": {
      "image/png": "[encoded data removed]",
      "text/plain": [
       "<Figure size 432x288 with 1 Axes>"
      ]
     },
     "metadata": {
      "needs_background": "light"
     },
     "output_type": "display_data"
    }
   ],
   "source": [
    "subplot1 = plt.subplot()\n",
    "\n",
    "for i in range(Y.shape[0]):\n",
    "    if(Y[i] == 0):\n",
    "        subplot1.scatter(X[i,0], X[i,1], c='g', marker='.')\n",
    "    else:\n",
    "        subplot1.scatter(X[i,0], X[i,1], c='b', marker='.')\n",
    "\n",
    "for i in kmeans._points:\n",
    "    subplot1.scatter(i[0], i[1], c='r', marker='X', s=100)\n",
    "\n",
    "plt.show()"
   ]
  },
  {
   "cell_type": "markdown",
   "metadata": {},
   "source": [
    "generate data with 4 cluster"
   ]
  },
  {
   "cell_type": "code",
   "execution_count": 26,
   "metadata": {},
   "outputs": [],
   "source": [
    "from sklearn.datasets import make_blobs\n",
    "X, Y = make_blobs(n_samples=100, centers=4, n_features=2, random_state=0)"
   ]
  },
  {
   "cell_type": "code",
   "execution_count": 35,
   "metadata": {},
   "outputs": [
    {
     "data": {
      "image/png": "[encoded data removed]",
      "text/plain": [
       "<Figure size 432x288 with 1 Axes>"
      ]
     },
     "metadata": {
      "needs_background": "light"
     },
     "output_type": "display_data"
    }
   ],
   "source": [
    "subplot1 = plt.subplot()\n",
    "for i in range(Y.shape[0]):\n",
    "    if(Y[i] == 0):\n",
    "        subplot1.scatter(X[i,0], X[i,1], c='g', marker='.', s=10)\n",
    "    elif(Y[i] == 1):\n",
    "        subplot1.scatter(X[i,0], X[i,1], c='y', marker='.', s=10)\n",
    "    elif(Y[i] == 2):\n",
    "        subplot1.scatter(X[i,0], X[i,1], c='r', marker='.', s=10)\n",
    "    else:\n",
    "        subplot1.scatter(X[i,0], X[i,1], c='b', marker='.', s=10)\n",
    "plt.show()"
   ]
  },
  {
   "cell_type": "markdown",
   "metadata": {},
   "source": [
    "init model with 4 cluster"
   ]
  },
  {
   "cell_type": "code",
   "execution_count": 38,
   "metadata": {},
   "outputs": [],
   "source": [
    "kmeans = KMeans(X, 4)\n",
    "kmeans.fit(2000)"
   ]
  },
  {
   "cell_type": "code",
   "execution_count": 39,
   "metadata": {},
   "outputs": [
    {
     "data": {
      "image/png": "[encoded data removed]",
      "text/plain": [
       "<Figure size 432x288 with 1 Axes>"
      ]
     },
     "metadata": {
      "needs_background": "light"
     },
     "output_type": "display_data"
    }
   ],
   "source": [
    "subplot1 = plt.subplot()\n",
    "for i in range(Y.shape[0]):\n",
    "    if(Y[i] == 0):\n",
    "        subplot1.scatter(X[i,0], X[i,1], c='g', marker='.', s=10)\n",
    "    elif(Y[i] == 1):\n",
    "        subplot1.scatter(X[i,0], X[i,1], c='y', marker='.', s=10)\n",
    "    elif(Y[i] == 2):\n",
    "        subplot1.scatter(X[i,0], X[i,1], c='r', marker='.', s=10)\n",
    "    else:\n",
    "        subplot1.scatter(X[i,0], X[i,1], c='b', marker='.', s=10)\n",
    "        \n",
    "for i in kmeans._points:\n",
    "    subplot1.scatter(i[0], i[1], c='r', marker='X', s=100)\n",
    "    \n",
    "plt.show()"
   ]
  },
  {
   "cell_type": "code",
   "execution_count": null,
   "metadata": {},
   "outputs": [],
   "source": []
  }
 ],
 "metadata": {
  "kernelspec": {
   "display_name": "Python 3",
   "language": "python",
   "name": "python3"
  },
  "language_info": {
   "codemirror_mode": {
    "name": "ipython",
    "version": 3
   },
   "file_extension": ".py",
   "mimetype": "text/x-python",
   "name": "python",
   "nbconvert_exporter": "python",
   "pygments_lexer": "ipython3",
   "version": "3.8.2"
  }
 },
 "nbformat": 4,
 "nbformat_minor": 4
}
